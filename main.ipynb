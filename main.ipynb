{
 "cells": [
  {
   "cell_type": "code",
   "execution_count": 1,
   "id": "ac1afe05-fbbb-466a-88a7-5c3d5daa811c",
   "metadata": {},
   "outputs": [
    {
     "data": {
      "text/html": [
       "<style>pre { white-space: pre !important; }</style>"
      ],
      "text/plain": [
       "<IPython.core.display.HTML object>"
      ]
     },
     "metadata": {},
     "output_type": "display_data"
    }
   ],
   "source": [
    "import sys\n",
    "from IPython.core.display import HTML\n",
    "import os\n",
    "\n",
    "sys.path.append('./loaders')\n",
    "sys.path.append('./cleaners')\n",
    "sys.path.append('./analyzers')\n",
    "display(HTML(\"<style>pre { white-space: pre !important; }</style>\"))\n",
    "\n",
    "os.environ['PYSPARK_HOME'] = \"C:/Users/USER/Desktop/spark-kurs/Projekt\"\n",
    "os.environ['PYSPARK_DRIVER_PYTHON'] = \"jupyter\"\n",
    "os.environ['PYSPARK_DRIVER_PYTHON_OPTS'] = 'lab'\n",
    "os.environ['PYSPARK_PYTHON'] = 'python'\n",
    "\n",
    "try:\n",
    "    from pyspark.sql import SparkSession, Row\n",
    "    from pyspark.sql.types import StructType, StructField, StringType, IntegerType, LongType, FloatType\n",
    "    from pyspark.sql.functions import col, split, explode, sha2, round, avg, udf\n",
    "except ImportError as e:\n",
    "    print(f\"Error importing PySpark modules: {e}\")\n",
    "\n",
    "try:\n",
    "    from tweets_loader import TweetsLoader\n",
    "    from tweets_cleaner import TweetsCleaner\n",
    "    from tweets_analyzer import TweetsAnalyzer\n",
    "    from tweets_search import TweetsSearcher\n",
    "except ImportError as e:\n",
    "    print(f\"Error importing project modules: {e}\")\n",
    "    \n",
    "try:\n",
    "    spark = SparkSession.builder \\\n",
    "            .appName(\"projekt\") \\\n",
    "            .config(\"spark.executor.memory\", \"2g\") \\\n",
    "            .config(\"spark.driver.memory\", \"2g\") \\\n",
    "            .master(\"local[*]\") \\\n",
    "            .getOrCreate()\n",
    "except Exception as e:\n",
    "    print(f\"Error creating Spark session: {e}\")"
   ]
  },
  {
   "cell_type": "code",
   "execution_count": 2,
   "id": "fb089e8d-82c5-4979-b794-a9e66b356632",
   "metadata": {},
   "outputs": [
    {
     "name": "stdout",
     "output_type": "stream",
     "text": [
      "+--------------------+------------------+\n",
      "|       user_location|avg_user_followers|\n",
      "+--------------------+------------------+\n",
      "|              Heaven|             274.0|\n",
      "|Grimsby & Great H...|             792.0|\n",
      "|    Redhill, England|            2085.0|\n",
      "|     Gainesville, FL|            8315.0|\n",
      "|            Novi, MI|            2344.0|\n",
      "|           Bangalore|            6652.0|\n",
      "|               Mainz|             508.0|\n",
      "|   St Petersburg, FL|            2179.0|\n",
      "|       St George, UT|             240.0|\n",
      "|           Bixby, OK|            1085.0|\n",
      "|           Worcester|            4797.0|\n",
      "| Mumbai, Maharashtra|           12847.0|\n",
      "|Washington, D.C.,...|             329.0|\n",
      "|𝓘 𝓪𝓲𝓷𝓽 𝓰𝓸?...|              64.0|\n",
      "|      West Vancouver|            2744.0|\n",
      "|      Luton, England|           15963.0|\n",
      "|               Bucks|             429.0|\n",
      "|Blackpool, Lancs,...|             728.0|\n",
      "|ÜT: -26.532499,28...|             596.0|\n",
      "|Twilight Zone on ...|             361.0|\n",
      "+--------------------+------------------+\n",
      "only showing top 20 rows\n",
      "\n"
     ]
    }
   ],
   "source": [
    "tweets_loader = TweetsLoader()\n",
    "tweets_cleaner = TweetsCleaner()\n",
    "tweets_analyzer = TweetsAnalyzer()\n",
    "tweets_searcher = TweetsSearcher()\n",
    "\n",
    "all_tweets_df = tweets_loader.load_all_tweets({\n",
    "    \"covid\": \"./data/covid19_tweets.csv\",\n",
    "    \"grammys\": \"./data/GRAMMYs_tweets.csv\",\n",
    "    \"financial\": \"./data/financial.csv\"\n",
    "})\n",
    "\n",
    "tweets_cleaner = tweets_cleaner.clean_all_tweets(all_tweets_df).cache()\n",
    "\n",
    "# tweets_analyzer.calculate_hashtags(tweets_cleaner).show()\n",
    "# tweets_analyzer.calculate_is_retweet(tweets_cleaner).show()\n",
    "# tweets_analyzer.calculate_source(tweets_cleaner).show()\n",
    "tweets_analyzer.calculate_avg_user_followers_per_location(tweets_cleaner).show()\n",
    "\n",
    "# tweets_searcher.search_by_key_words([\"Trump\"], tweets_cleaner).transform(onlyInLocation(\"United States\", )).show()"
   ]
  }
 ],
 "metadata": {
  "kernelspec": {
   "display_name": "Python 3 (ipykernel)",
   "language": "python",
   "name": "python3"
  },
  "language_info": {
   "codemirror_mode": {
    "name": "ipython",
    "version": 3
   },
   "file_extension": ".py",
   "mimetype": "text/x-python",
   "name": "python",
   "nbconvert_exporter": "python",
   "pygments_lexer": "ipython3",
   "version": "3.11.7"
  }
 },
 "nbformat": 4,
 "nbformat_minor": 5
}
