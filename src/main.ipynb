{
 "cells": [
  {
   "cell_type": "code",
   "execution_count": 1,
   "id": "ac1afe05-fbbb-466a-88a7-5c3d5daa811c",
   "metadata": {},
   "outputs": [
    {
     "data": {
      "text/html": [
       "<style>pre { white-space: pre !important; }</style>"
      ],
      "text/plain": [
       "<IPython.core.display.HTML object>"
      ]
     },
     "metadata": {},
     "output_type": "display_data"
    }
   ],
   "source": [
    "import sys\n",
    "sys.path.append(r'C:\\Users\\USER\\Desktop\\spark-kurs\\Projekt\\loaders')\n",
    "sys.path.append(r'C:\\Users\\USER\\Desktop\\spark-kurs\\Projekt\\cleaners')\n",
    "sys.path.append(r'C:\\Users\\USER\\Desktop\\spark-kurs\\Projekt\\analyzers')\n",
    "\n",
    "from IPython.core.display import HTML\n",
    "display(HTML(\"<style>pre { white-space: pre !important; }</style>\"))\n",
    "\n",
    "import os\n",
    "os.environ['PYSPARK_HOME']= r\"C:\\Users\\USER\\Desktop\\spark-kurs\\Projekt\"\n",
    "os.environ['PYSPARK_DRIVER_PYTHON']= \"jupyter\"\n",
    "os.environ['PYSPARK_DRIVER_PYTHON_OPTS'] = 'lab'\n",
    "os.environ['PYSPARK_PYTHON'] = 'python'\n",
    "\n",
    "from pyspark.sql import SparkSession, Row\n",
    "from pyspark.sql.types import StructType, StructField, StringType, IntegerType, LongType, FloatType\n",
    "from pyspark.sql.functions import col, split, explode, sha2, round, avg, udf\n",
    "\n",
    "from tweets_loader import TweetsLoader\n",
    "from tweets_cleaner import TweetsCleaner\n",
    "from tweets_analyzer import TweetsAnalyzer\n",
    "from tweets_search import TweetsSearcher\n",
    "\n",
    "spark = SparkSession.builder \\\n",
    "        .appName(\"projekt\") \\\n",
    "        .config(\"spark.executor.memory\", \"2g\") \\\n",
    "        .config(\"spark.driver.memory\", \"2g\") \\\n",
    "        .master(\"local[*]\") \\\n",
    "        .getOrCreate()"
   ]
  },
  {
   "cell_type": "code",
   "execution_count": 2,
   "id": "fb089e8d-82c5-4979-b794-a9e66b356632",
   "metadata": {},
   "outputs": [],
   "source": [
    "tweets_loader = TweetsLoader()\n",
    "tweets_cleaner = TweetsCleaner()\n",
    "tweets_analyzer = TweetsAnalyzer()\n",
    "tweets_searcher = TweetsSearcher()\n",
    "\n",
    "all_tweets_df = tweets_loader.load_all_tweets({\n",
    "    \"covid\": r\"C:\\Users\\USER\\Desktop\\spark-kurs\\Projekt\\data\\covid19_tweets.csv\",\n",
    "    \"grammys\": r\"C:\\Users\\USER\\Desktop\\spark-kurs\\Projekt\\data\\GRAMMYs_tweets.csv\",\n",
    "    \"financial\": r\"C:\\Users\\USER\\Desktop\\spark-kurs\\Projekt\\data\\financial.csv\"\n",
    "})\n",
    "\n",
    "tweets_cleaner = tweets_cleaner.clean_all_tweets(all_tweets_df).cache()\n",
    "\n",
    "tweets_analyzer.calculate_hashtags(tweets_cleaner).show()\n",
    "tweets_analyzer.calculate_is_retweet(tweets_cleaner).show()\n",
    "tweets_analyzer.calculate_source(tweets_cleaner).show()\n",
    "tweets_analyzer.calculate_avg_user_followers_per_location(tweets_cleaner).show()\n",
    "\n",
    "# tweets_searcher.search_by_key_words([\"Trump\"], tweets_cleaner).transform(onlyInLocation(\"United States\", )).show()"
   ]
  }
 ],
 "metadata": {
  "kernelspec": {
   "display_name": "Python 3 (ipykernel)",
   "language": "python",
   "name": "python3"
  },
  "language_info": {
   "codemirror_mode": {
    "name": "ipython",
    "version": 3
   },
   "file_extension": ".py",
   "mimetype": "text/x-python",
   "name": "python",
   "nbconvert_exporter": "python",
   "pygments_lexer": "ipython3",
   "version": "3.11.7"
  }
 },
 "nbformat": 4,
 "nbformat_minor": 5
}
