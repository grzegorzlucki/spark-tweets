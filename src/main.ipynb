{
 "cells": [
  {
   "cell_type": "code",
   "execution_count": 1,
   "id": "ac1afe05-fbbb-466a-88a7-5c3d5daa811c",
   "metadata": {},
   "outputs": [
    {
     "data": {
      "text/html": [
       "<style>pre { white-space: pre !important; }</style>"
      ],
      "text/plain": [
       "<IPython.core.display.HTML object>"
      ]
     },
     "metadata": {},
     "output_type": "display_data"
    }
   ],
   "source": [
    "import sys\n",
    "sys.path.append(r'C:\\Users\\USER\\Desktop\\spark-kurs\\Projekt\\loaders')\n",
    "\n",
    "from IPython.core.display import HTML\n",
    "display(HTML(\"<style>pre { white-space: pre !important; }</style>\"))\n",
    "\n",
    "import os\n",
    "os.environ['PYSPARK_HOME']= r\"C:\\Users\\USER\\Desktop\\spark-kurs\\Projekt\"\n",
    "os.environ['PYSPARK_DRIVER_PYTHON']= \"jupyter\"\n",
    "os.environ['PYSPARK_DRIVER_PYTHON_OPTS'] = 'lab'\n",
    "os.environ['PYSPARK_PYTHON'] = 'python'\n",
    "\n",
    "from pyspark.sql import SparkSession, Row\n",
    "from pyspark.sql.types import StructType, StructField, StringType, IntegerType, LongType, FloatType\n",
    "from pyspark.sql.functions import col, split, explode, sha2, round, avg, udf\n",
    "\n",
    "from tweets_loader import TweetsLoader\n",
    "\n",
    "spark = SparkSession.builder \\\n",
    "        .appName(\"projekt\") \\\n",
    "        .config(\"spark.executor.memory\", \"2g\") \\\n",
    "        .config(\"spark.driver.memory\", \"2g\") \\\n",
    "        .master(\"local[*]\") \\\n",
    "        .getOrCreate()"
   ]
  },
  {
   "cell_type": "code",
   "execution_count": 4,
   "id": "fb089e8d-82c5-4979-b794-a9e66b356632",
   "metadata": {},
   "outputs": [
    {
     "name": "stdout",
     "output_type": "stream",
     "text": [
      "+--------------------+--------------------+--------------------+-------------------+--------------+------------+---------------+-------------+-------------------+--------------------+--------------------+-------------------+----------+--------+----+---------+-------+-------------+----+--------+\n",
      "|           user_name|       user_location|    user_description|       user_created|user_followers|user_friends|user_favourites|user_verified|               date|                text|            hashtags|             source|is_retweet|category|  id|timestamp|symbols|company_names| url|verified|\n",
      "+--------------------+--------------------+--------------------+-------------------+--------------+------------+---------------+-------------+-------------------+--------------------+--------------------+-------------------+----------+--------+----+---------+-------+-------------+----+--------+\n",
      "|     Time4fisticuffs|    Pewee Valley, KY|#Christian #Catho...|2009-02-28 18:57:41|          9275|        9525|           7254|        False|2020-07-25 12:27:14|@diane3443 @wdunl...|         ['COVID19']|Twitter for Android|     False|   covid|NULL|     NULL|   NULL|         NULL|NULL|    NULL|\n",
      "|         ethel mertz|Stuck in the Middle |#Browns #Indians ...|2019-03-07 01:45:06|           197|         987|           1488|        False|2020-07-25 12:27:10|@brookbanktv The ...|         ['COVID19']| Twitter for iPhone|     False|   covid|NULL|     NULL|   NULL|         NULL|NULL|    NULL|\n",
      "|   🎹 Franz Schubert|         Новоро́ссия|🎼  #Новоро́ссия ...|2018-03-19 16:29:52|          1180|        1071|           1287|        False|2020-07-25 12:27:06|#coronavirus #cov...|['coronavirus', '...|    Twitter Web App|     False|   covid|NULL|     NULL|   NULL|         NULL|NULL|    NULL|\n",
      "|        hr bartender|     Gainesville, FL|Workplace tips an...|2008-08-12 18:19:49|         79956|       54810|           3801|        False|2020-07-25 12:27:03|How #COVID19 Will...|['COVID19', 'Recr...|             Buffer|     False|   covid|NULL|     NULL|   NULL|         NULL|NULL|    NULL|\n",
      "|marc goovaerts🇪?...|            Brussels|Progressive mind....|2009-06-13 13:48:16|           283|        1432|           1546|        False|2020-07-25 12:26:44|Second wave of #C...|['COVID19', 'home...|Twitter for Android|     False|   covid|NULL|     NULL|   NULL|         NULL|NULL|    NULL|\n",
      "|      Florian Bieber|                Graz|Niko i ništa, pro...|2009-06-18 09:46:10|         18145|        1389|          13578|        False|2020-07-25 12:26:28|Holy water in tim...|         ['COVID19']|Twitter for Android|     False|   covid|NULL|     NULL|   NULL|         NULL|NULL|    NULL|\n",
      "|Tetra Tech Intern...|Working in 175+ c...|A leader in #Glob...|2010-08-06 19:09:22|         20699|         458|           2680|        False|2020-07-25 12:26:26|Our Munitions Res...|['BosniaandHerzeg...|    Twitter Web App|     False|   covid|NULL|     NULL|   NULL|         NULL|NULL|    NULL|\n",
      "|beatnikgeek the s...|       Manhattan, NY|These days, I exp...|2008-02-23 19:02:29|            86|         259|           9412|        False|2020-07-25 12:26:26|I can imagine the...|         ['COVID19']|Twitter for Android|     False|   covid|NULL|     NULL|   NULL|         NULL|NULL|    NULL|\n",
      "|       Beautify Data|           Miami, FL|We beautify data ...|2019-02-18 17:11:24|            82|          92|           1152|        False|2020-07-25 12:26:17|An update on the ...|['covid19', 'Afri...|    Twitter Web App|     False|   covid|NULL|     NULL|   NULL|         NULL|NULL|    NULL|\n",
      "|         Alan Taylor|British Columbia,...|Lifetime learner ...|2012-03-11 21:21:35|            54|         422|           1392|        False|2020-07-25 12:26:15|@unionwill @megaw...|         ['COVID19']|   Twitter for iPad|     False|   covid|NULL|     NULL|   NULL|         NULL|NULL|    NULL|\n",
      "|   Aishling Sheridan|      Cavan, Ireland|Athletic therapis...|2011-12-21 18:19:44|          1136|         484|           2002|        False|2020-07-25 12:25:58|#PlayYourPart in ...|['PlayYourPart', ...| Twitter for iPhone|     False|   covid|NULL|     NULL|   NULL|         NULL|NULL|    NULL|\n",
      "|Matthew McGee ⴵ ?...|A UK I no longer ...|I am a man, and n...|2011-12-07 11:16:36|          3113|        3086|         221545|        False|2020-07-25 12:25:56|Britain didn't un...|         ['Covid19']|Twitter for Android|     False|   covid|NULL|     NULL|   NULL|         NULL|NULL|    NULL|\n",
      "|      N I C TA S H ♍|Port Elizabeth, S...|  I.G: @nictash_tash|2016-04-28 09:05:56|           481|         308|           1120|        False|2020-07-25 12:25:50|Volume for those ...|         ['COVID19']|Twitter for Android|     False|   covid|NULL|     NULL|   NULL|         NULL|NULL|    NULL|\n",
      "|           TOI Delhi|    New Delhi, India|Your city. Your n...|2009-04-13 13:00:35|         52186|          41|             74|         True|2020-07-25 12:25:49|#Delhi reports 1,...|['Delhi', 'COVID19']|          TweetDeck|     False|   covid|NULL|     NULL|   NULL|         NULL|NULL|    NULL|\n",
      "|    Barry Grodenchik|          Queens, NY|Queens lifer repr...|2012-11-23 16:51:09|          4868|         445|          31825|        False|2020-07-25 12:25:30|.@nytimes reporti...|         ['COVID19']|Twitter for Android|     False|   covid|NULL|     NULL|   NULL|         NULL|NULL|    NULL|\n",
      "|             CARLINO|     New Orleans, LA|IG Carlino213: Al...|2015-04-19 22:07:53|            11|           3|            133|        False|2020-07-25 12:25:29|Crazy that the wo...|         ['covid19']| Twitter for iPhone|     False|   covid|NULL|     NULL|   NULL|         NULL|NULL|    NULL|\n",
      "|             ᏉᎥ☻լꂅϮ|          astroworld|wednesday addams ...|2017-05-26 05:46:42|           624|         950|          18775|        False|2020-07-25 12:25:24|I miss isopropyl ...|         ['COVID19']| Twitter for iPhone|     False|   covid|NULL|     NULL|   NULL|         NULL|NULL|    NULL|\n",
      "|           Jazmine❄️|        Marietta, GA|Living Life Too T...|2009-04-26 04:34:30|         18092|       17557|           7156|        False|2020-07-25 12:25:22|Due to #COVID19 a...|['COVID19', 'Coro...| Twitter for iPhone|     False|   covid|NULL|     NULL|   NULL|         NULL|NULL|    NULL|\n",
      "|    Stephen Williams|    Ballston Spa, NY|Longtime  reporte...|2013-08-23 14:39:13|          1429|         926|           1324|        False|2020-07-25 12:25:20|Local government ...|         ['COVID19']|    Twitter Web App|     False|   covid|NULL|     NULL|   NULL|         NULL|NULL|    NULL|\n",
      "|    BestValueButtons|          Denver, CO|We are a fabric o...|2018-05-30 19:45:27|          1267|        2869|           1204|        False|2020-07-25 12:25:11|Check out Angel's...|['etsy', 'epicone...|              IFTTT|     False|   covid|NULL|     NULL|   NULL|         NULL|NULL|    NULL|\n",
      "+--------------------+--------------------+--------------------+-------------------+--------------+------------+---------------+-------------+-------------------+--------------------+--------------------+-------------------+----------+--------+----+---------+-------+-------------+----+--------+\n",
      "only showing top 20 rows\n",
      "\n",
      "root\n",
      " |-- user_name: string (nullable = true)\n",
      " |-- user_location: string (nullable = true)\n",
      " |-- user_description: string (nullable = true)\n",
      " |-- user_created: string (nullable = true)\n",
      " |-- user_followers: string (nullable = true)\n",
      " |-- user_friends: string (nullable = true)\n",
      " |-- user_favourites: string (nullable = true)\n",
      " |-- user_verified: string (nullable = true)\n",
      " |-- date: string (nullable = true)\n",
      " |-- text: string (nullable = true)\n",
      " |-- hashtags: string (nullable = true)\n",
      " |-- source: string (nullable = true)\n",
      " |-- is_retweet: string (nullable = true)\n",
      " |-- category: string (nullable = false)\n",
      " |-- id: string (nullable = true)\n",
      " |-- timestamp: string (nullable = true)\n",
      " |-- symbols: string (nullable = true)\n",
      " |-- company_names: string (nullable = true)\n",
      " |-- url: string (nullable = true)\n",
      " |-- verified: string (nullable = true)\n",
      "\n"
     ]
    }
   ],
   "source": [
    "tweets_loader = TweetsLoader()\n",
    "\n",
    "all_tweets_df = tweets_loader.load_all_tweets({\n",
    "    \"covid\": r\"C:\\Users\\USER\\Desktop\\spark-kurs\\Projekt\\data\\covid19_tweets.csv\",\n",
    "    \"grammys\": r\"C:\\Users\\USER\\Desktop\\spark-kurs\\Projekt\\data\\GRAMMYs_tweets.csv\",\n",
    "    \"financial\": r\"C:\\Users\\USER\\Desktop\\spark-kurs\\Projekt\\data\\financial.csv\"\n",
    "})\n",
    "\n",
    "all_tweets_df.show()\n",
    "all_tweets_df.printSchema()"
   ]
  }
 ],
 "metadata": {
  "kernelspec": {
   "display_name": "Python 3 (ipykernel)",
   "language": "python",
   "name": "python3"
  },
  "language_info": {
   "codemirror_mode": {
    "name": "ipython",
    "version": 3
   },
   "file_extension": ".py",
   "mimetype": "text/x-python",
   "name": "python",
   "nbconvert_exporter": "python",
   "pygments_lexer": "ipython3",
   "version": "3.11.7"
  }
 },
 "nbformat": 4,
 "nbformat_minor": 5
}
